{
  "nbformat": 4,
  "nbformat_minor": 0,
  "metadata": {
    "colab": {
      "name": "6Yandex.ipynb",
      "provenance": [],
      "collapsed_sections": []
    },
    "kernelspec": {
      "name": "python3",
      "display_name": "Python 3"
    },
    "accelerator": "GPU"
  },
  "cells": [
    {
      "cell_type": "code",
      "metadata": {
        "id": "wdtIwQefW-Ov"
      },
      "source": [
        "import librosa\n",
        "from sklearn.model_selection import train_test_split"
      ],
      "execution_count": null,
      "outputs": []
    },
    {
      "cell_type": "code",
      "metadata": {
        "colab": {
          "base_uri": "https://localhost:8080/"
        },
        "id": "LOavLLIYW_Qd",
        "outputId": "631b7c80-c58a-4a7c-89c0-cb08c8d2e63e"
      },
      "source": [
        "import zipfile\n",
        "from google.colab import drive\n",
        "\n",
        "drive.mount('/content/drive/')"
      ],
      "execution_count": null,
      "outputs": [
        {
          "output_type": "stream",
          "text": [
            "Mounted at /content/drive/\n"
          ],
          "name": "stdout"
        }
      ]
    },
    {
      "cell_type": "code",
      "metadata": {
        "id": "6KPOvWQaXNJb",
        "colab": {
          "base_uri": "https://localhost:8080/",
          "height": 328
        },
        "outputId": "5e8b626e-625c-479a-8ba4-b3822979ea13"
      },
      "source": [
        "zip_ref = zipfile.ZipFile(\"/content/drive/MyDrive/zhenya/test.zip\", 'r')\n",
        "zip_ref.extractall(\"/content\")\n",
        "zip_ref.close()"
      ],
      "execution_count": null,
      "outputs": [
        {
          "output_type": "error",
          "ename": "FileNotFoundError",
          "evalue": "ignored",
          "traceback": [
            "\u001b[0;31m---------------------------------------------------------------------------\u001b[0m",
            "\u001b[0;31mFileNotFoundError\u001b[0m                         Traceback (most recent call last)",
            "\u001b[0;32m<ipython-input-3-4b4f0ae73cb1>\u001b[0m in \u001b[0;36m<module>\u001b[0;34m()\u001b[0m\n\u001b[0;32m----> 1\u001b[0;31m \u001b[0mzip_ref\u001b[0m \u001b[0;34m=\u001b[0m \u001b[0mzipfile\u001b[0m\u001b[0;34m.\u001b[0m\u001b[0mZipFile\u001b[0m\u001b[0;34m(\u001b[0m\u001b[0;34m\"/content/drive/MyDrive/zhenya/test.zip\"\u001b[0m\u001b[0;34m,\u001b[0m \u001b[0;34m'r'\u001b[0m\u001b[0;34m)\u001b[0m\u001b[0;34m\u001b[0m\u001b[0;34m\u001b[0m\u001b[0m\n\u001b[0m\u001b[1;32m      2\u001b[0m \u001b[0mzip_ref\u001b[0m\u001b[0;34m.\u001b[0m\u001b[0mextractall\u001b[0m\u001b[0;34m(\u001b[0m\u001b[0;34m\"/content\"\u001b[0m\u001b[0;34m)\u001b[0m\u001b[0;34m\u001b[0m\u001b[0;34m\u001b[0m\u001b[0m\n\u001b[1;32m      3\u001b[0m \u001b[0mzip_ref\u001b[0m\u001b[0;34m.\u001b[0m\u001b[0mclose\u001b[0m\u001b[0;34m(\u001b[0m\u001b[0;34m)\u001b[0m\u001b[0;34m\u001b[0m\u001b[0;34m\u001b[0m\u001b[0m\n",
            "\u001b[0;32m/usr/lib/python3.7/zipfile.py\u001b[0m in \u001b[0;36m__init__\u001b[0;34m(self, file, mode, compression, allowZip64, compresslevel)\u001b[0m\n\u001b[1;32m   1238\u001b[0m             \u001b[0;32mwhile\u001b[0m \u001b[0;32mTrue\u001b[0m\u001b[0;34m:\u001b[0m\u001b[0;34m\u001b[0m\u001b[0;34m\u001b[0m\u001b[0m\n\u001b[1;32m   1239\u001b[0m                 \u001b[0;32mtry\u001b[0m\u001b[0;34m:\u001b[0m\u001b[0;34m\u001b[0m\u001b[0;34m\u001b[0m\u001b[0m\n\u001b[0;32m-> 1240\u001b[0;31m                     \u001b[0mself\u001b[0m\u001b[0;34m.\u001b[0m\u001b[0mfp\u001b[0m \u001b[0;34m=\u001b[0m \u001b[0mio\u001b[0m\u001b[0;34m.\u001b[0m\u001b[0mopen\u001b[0m\u001b[0;34m(\u001b[0m\u001b[0mfile\u001b[0m\u001b[0;34m,\u001b[0m \u001b[0mfilemode\u001b[0m\u001b[0;34m)\u001b[0m\u001b[0;34m\u001b[0m\u001b[0;34m\u001b[0m\u001b[0m\n\u001b[0m\u001b[1;32m   1241\u001b[0m                 \u001b[0;32mexcept\u001b[0m \u001b[0mOSError\u001b[0m\u001b[0;34m:\u001b[0m\u001b[0;34m\u001b[0m\u001b[0;34m\u001b[0m\u001b[0m\n\u001b[1;32m   1242\u001b[0m                     \u001b[0;32mif\u001b[0m \u001b[0mfilemode\u001b[0m \u001b[0;32min\u001b[0m \u001b[0mmodeDict\u001b[0m\u001b[0;34m:\u001b[0m\u001b[0;34m\u001b[0m\u001b[0;34m\u001b[0m\u001b[0m\n",
            "\u001b[0;31mFileNotFoundError\u001b[0m: [Errno 2] No such file or directory: '/content/drive/MyDrive/zhenya/test.zip'"
          ]
        }
      ]
    },
    {
      "cell_type": "code",
      "metadata": {
        "id": "yajukTfcXgW4"
      },
      "source": [
        "zip_ref = zipfile.ZipFile(\"/content/drive/MyDrive/zhenya/train.zip\", 'r')\n",
        "zip_ref.extractall(\"/content\")\n",
        "zip_ref.close()"
      ],
      "execution_count": null,
      "outputs": []
    },
    {
      "cell_type": "code",
      "metadata": {
        "id": "iz3qmYmSXnt5"
      },
      "source": [
        "import os\n",
        "lisst = os.listdir('/content/train')"
      ],
      "execution_count": null,
      "outputs": []
    },
    {
      "cell_type": "code",
      "metadata": {
        "id": "Fry1sRzOvXGe"
      },
      "source": [
        "import numpy as np\n",
        "X_train = np.loadtxt('/content/drive/MyDrive/zhenya/data.csv', delimiter=',')"
      ],
      "execution_count": null,
      "outputs": []
    },
    {
      "cell_type": "code",
      "metadata": {
        "id": "0nfgRqYGv8WS"
      },
      "source": [
        "target = np.loadtxt('/content/drive/MyDrive/zhenya/data1.csv', delimiter=',')"
      ],
      "execution_count": null,
      "outputs": []
    },
    {
      "cell_type": "code",
      "metadata": {
        "id": "BlgwcuLU7Xcr"
      },
      "source": [
        "X_test = np.loadtxt('/content/drive/MyDrive/zhenya/data2.csv', delimiter=',')"
      ],
      "execution_count": null,
      "outputs": []
    },
    {
      "cell_type": "code",
      "metadata": {
        "id": "z6okWFYlawW0"
      },
      "source": [
        "# import pandas as pd \n",
        "# df = pd.read_csv(\"./train/targets.tsv\", sep=\"\\t\")\n",
        "# mydict = dict([(k, v) for k, v in zip(df['a'], df['b'])])"
      ],
      "execution_count": null,
      "outputs": []
    },
    {
      "cell_type": "code",
      "metadata": {
        "id": "K5y1I-atXux2"
      },
      "source": [
        "# from tqdm import tqdm\n",
        "# X = []\n",
        "# for i in tqdm(range(len(lisst))):\n",
        "#     y, sr  = librosa.load('./train/' + lisst[i])\n",
        "#     ps = librosa.feature.melspectrogram(y=y, sr=sr)\n",
        "#     X.append(list(np.reshape(ps, -1)) + [mydict[lisst[i][:-4]]])"
      ],
      "execution_count": null,
      "outputs": []
    },
    {
      "cell_type": "code",
      "metadata": {
        "id": "EhEnt3aRXvq1"
      },
      "source": [
        "# import numpy as np\n",
        "# X = np.array(X)"
      ],
      "execution_count": null,
      "outputs": []
    },
    {
      "cell_type": "code",
      "metadata": {
        "id": "dwcDrwBZX_iF"
      },
      "source": [
        "# X_test = []\n",
        "# for i in lisst:\n",
        "#     X_test.append(librosa.load('/content/test/' + i))\n",
        "# X_test = np.array(X_test)"
      ],
      "execution_count": null,
      "outputs": []
    },
    {
      "cell_type": "code",
      "metadata": {
        "id": "ZX9FS-uKwmih"
      },
      "source": [
        ""
      ],
      "execution_count": null,
      "outputs": []
    },
    {
      "cell_type": "code",
      "metadata": {
        "id": "P56Y6ak7wmlM"
      },
      "source": [
        ""
      ],
      "execution_count": null,
      "outputs": []
    },
    {
      "cell_type": "code",
      "metadata": {
        "id": "WrT7TxGywmpN"
      },
      "source": [
        ""
      ],
      "execution_count": null,
      "outputs": []
    },
    {
      "cell_type": "code",
      "metadata": {
        "id": "A0fqM54rwmsr"
      },
      "source": [
        "X_train1, X_test1, y_train1, y_test1 = train_test_split(X_train, target, test_size=0.2, random_state=42)\n",
        "X_train1 = torch.tensor(X_train1,dtype=torch.float).to(device)\n",
        "X_test1 = torch.tensor(X_test1, dtype=torch.float).to(device)\n",
        "y_train1 = torch.tensor([y_train1], dtype=torch.float).T.to(device)\n",
        "y_test1 = torch.tensor([y_test1], dtype=torch.float).T.to(device)"
      ],
      "execution_count": null,
      "outputs": []
    },
    {
      "cell_type": "code",
      "metadata": {
        "id": "xzvzoFBZYNYr"
      },
      "source": [
        "from torch import nn\n",
        "import numpy as np\n",
        "import torch.optim as optim\n",
        "import torch\n",
        "\n",
        "# import torch.nn as nn\n",
        "import torch.nn.functional as F\n",
        "\n"
      ],
      "execution_count": null,
      "outputs": []
    },
    {
      "cell_type": "code",
      "metadata": {
        "id": "jU5AnZ8jwO8r"
      },
      "source": [
        "device = torch.device('cuda')"
      ],
      "execution_count": null,
      "outputs": []
    },
    {
      "cell_type": "code",
      "metadata": {
        "id": "a7xO70pgwR-7"
      },
      "source": [
        "class Net(nn.Module):\n",
        "    def __init__(self):\n",
        "        super(Net, self).__init__()\n",
        "#         self.conv1 = nn.Conv2d(1, 6, 5)\n",
        "#         self.pool = nn.MaxPool2d(2, 2)\n",
        "#         self.conv2 = nn.Conv2d(6, 16, 5)\n",
        "        self.fc1 = nn.Linear(3000, 3000).to(device)\n",
        "        self.fc2 = nn.Linear(3000, 3000//5).to(device)\n",
        "#         self.fc3 = nn.Linear(3000//3*2, 3000//5)\n",
        "        self.fc4 = nn.Linear(3000//5, 1).to(device)\n",
        "        \n",
        "\n",
        "    def forward(self, x):\n",
        "#         x = self.pool(F.relu(self.conv1(x)))\n",
        "#         x = self.pool(F.relu(self.conv2(x)))\n",
        "#         x = x.view(-1, 16 * 5 * 5)\n",
        "        x = F.relu(self.fc1(x))\n",
        "        x = F.relu(self.fc2(x))\n",
        "#         x = F.relu(self.fc3(x))\n",
        "        x = F.sigmoid(self.fc4(x))\n",
        "        return x\n",
        "\n",
        "\n",
        "net = Net()"
      ],
      "execution_count": null,
      "outputs": []
    },
    {
      "cell_type": "code",
      "metadata": {
        "id": "519B04wD2SwR"
      },
      "source": [
        "X = torch.tensor(X_train,dtype=torch.float).to(device)\n",
        "y = torch.tensor([target],dtype=torch.float).T.to(device)"
      ],
      "execution_count": null,
      "outputs": []
    },
    {
      "cell_type": "code",
      "metadata": {
        "id": "oSw8_rYS7qgc"
      },
      "source": [
        "X_t = torch.tensor(X_test,dtype=torch.float).to(device)"
      ],
      "execution_count": null,
      "outputs": []
    },
    {
      "cell_type": "code",
      "metadata": {
        "colab": {
          "base_uri": "https://localhost:8080/"
        },
        "id": "NzJ7oB0zwdAq",
        "outputId": "6628d40f-d402-4f21-f372-2e60faaacb42"
      },
      "source": [
        "criterion = nn.BCELoss()\n",
        "\n",
        "optimizer = optim.RMSprop(net.parameters(), lr=0.0000015)\n",
        "# target = torch.tensor(target, dtype=torch.float)\n",
        "\n",
        "EPOCH = 7701\n",
        "\n",
        "for i in range(EPOCH):\n",
        "    optimizer.zero_grad()\n",
        "    output = net(X)\n",
        "    loss = criterion(output, y)\n",
        "    loss.backward()\n",
        "    optimizer.step()\n",
        "    if i %100 == 0:\n",
        "        with torch.no_grad():\n",
        "    #         y_pred = net(X_test1)\n",
        "            # print(np.array(((y_pred > 0.5) == y_test1).cpu()).mean(), criterion(y_pred,y_test1))\n",
        "            print(loss)"
      ],
      "execution_count": null,
      "outputs": [
        {
          "output_type": "stream",
          "text": [
            "/usr/local/lib/python3.7/dist-packages/torch/nn/functional.py:1639: UserWarning: nn.functional.sigmoid is deprecated. Use torch.sigmoid instead.\n",
            "  warnings.warn(\"nn.functional.sigmoid is deprecated. Use torch.sigmoid instead.\")\n"
          ],
          "name": "stderr"
        },
        {
          "output_type": "stream",
          "text": [
            "tensor(2.4848, device='cuda:0', grad_fn=<BinaryCrossEntropyBackward>)\n",
            "tensor(0.1719, device='cuda:0', grad_fn=<BinaryCrossEntropyBackward>)\n",
            "tensor(0.1389, device='cuda:0', grad_fn=<BinaryCrossEntropyBackward>)\n",
            "tensor(0.1252, device='cuda:0', grad_fn=<BinaryCrossEntropyBackward>)\n",
            "tensor(0.1172, device='cuda:0', grad_fn=<BinaryCrossEntropyBackward>)\n",
            "tensor(0.1115, device='cuda:0', grad_fn=<BinaryCrossEntropyBackward>)\n",
            "tensor(0.1085, device='cuda:0', grad_fn=<BinaryCrossEntropyBackward>)\n",
            "tensor(0.1006, device='cuda:0', grad_fn=<BinaryCrossEntropyBackward>)\n",
            "tensor(0.0962, device='cuda:0', grad_fn=<BinaryCrossEntropyBackward>)\n",
            "tensor(0.0930, device='cuda:0', grad_fn=<BinaryCrossEntropyBackward>)\n",
            "tensor(0.6405, device='cuda:0', grad_fn=<BinaryCrossEntropyBackward>)\n",
            "tensor(0.0866, device='cuda:0', grad_fn=<BinaryCrossEntropyBackward>)\n",
            "tensor(0.0843, device='cuda:0', grad_fn=<BinaryCrossEntropyBackward>)\n",
            "tensor(0.0809, device='cuda:0', grad_fn=<BinaryCrossEntropyBackward>)\n",
            "tensor(0.0790, device='cuda:0', grad_fn=<BinaryCrossEntropyBackward>)\n",
            "tensor(0.0799, device='cuda:0', grad_fn=<BinaryCrossEntropyBackward>)\n",
            "tensor(0.0743, device='cuda:0', grad_fn=<BinaryCrossEntropyBackward>)\n",
            "tensor(0.0729, device='cuda:0', grad_fn=<BinaryCrossEntropyBackward>)\n",
            "tensor(0.0700, device='cuda:0', grad_fn=<BinaryCrossEntropyBackward>)\n",
            "tensor(0.0688, device='cuda:0', grad_fn=<BinaryCrossEntropyBackward>)\n",
            "tensor(0.0665, device='cuda:0', grad_fn=<BinaryCrossEntropyBackward>)\n",
            "tensor(0.0654, device='cuda:0', grad_fn=<BinaryCrossEntropyBackward>)\n",
            "tensor(0.0633, device='cuda:0', grad_fn=<BinaryCrossEntropyBackward>)\n",
            "tensor(0.0624, device='cuda:0', grad_fn=<BinaryCrossEntropyBackward>)\n",
            "tensor(0.0604, device='cuda:0', grad_fn=<BinaryCrossEntropyBackward>)\n",
            "tensor(0.0597, device='cuda:0', grad_fn=<BinaryCrossEntropyBackward>)\n",
            "tensor(0.0579, device='cuda:0', grad_fn=<BinaryCrossEntropyBackward>)\n",
            "tensor(0.0573, device='cuda:0', grad_fn=<BinaryCrossEntropyBackward>)\n",
            "tensor(0.0554, device='cuda:0', grad_fn=<BinaryCrossEntropyBackward>)\n",
            "tensor(0.0553, device='cuda:0', grad_fn=<BinaryCrossEntropyBackward>)\n",
            "tensor(0.0532, device='cuda:0', grad_fn=<BinaryCrossEntropyBackward>)\n",
            "tensor(0.0542, device='cuda:0', grad_fn=<BinaryCrossEntropyBackward>)\n",
            "tensor(0.0510, device='cuda:0', grad_fn=<BinaryCrossEntropyBackward>)\n",
            "tensor(0.0563, device='cuda:0', grad_fn=<BinaryCrossEntropyBackward>)\n",
            "tensor(0.0489, device='cuda:0', grad_fn=<BinaryCrossEntropyBackward>)\n",
            "tensor(0.0475, device='cuda:0', grad_fn=<BinaryCrossEntropyBackward>)\n",
            "tensor(0.0472, device='cuda:0', grad_fn=<BinaryCrossEntropyBackward>)\n",
            "tensor(0.0459, device='cuda:0', grad_fn=<BinaryCrossEntropyBackward>)\n",
            "tensor(0.0463, device='cuda:0', grad_fn=<BinaryCrossEntropyBackward>)\n",
            "tensor(0.0442, device='cuda:0', grad_fn=<BinaryCrossEntropyBackward>)\n",
            "tensor(0.0506, device='cuda:0', grad_fn=<BinaryCrossEntropyBackward>)\n",
            "tensor(0.0425, device='cuda:0', grad_fn=<BinaryCrossEntropyBackward>)\n",
            "tensor(0.0414, device='cuda:0', grad_fn=<BinaryCrossEntropyBackward>)\n",
            "tensor(0.0413, device='cuda:0', grad_fn=<BinaryCrossEntropyBackward>)\n",
            "tensor(0.0400, device='cuda:0', grad_fn=<BinaryCrossEntropyBackward>)\n",
            "tensor(0.0424, device='cuda:0', grad_fn=<BinaryCrossEntropyBackward>)\n",
            "tensor(0.0387, device='cuda:0', grad_fn=<BinaryCrossEntropyBackward>)\n",
            "tensor(0.0376, device='cuda:0', grad_fn=<BinaryCrossEntropyBackward>)\n",
            "tensor(0.0376, device='cuda:0', grad_fn=<BinaryCrossEntropyBackward>)\n",
            "tensor(0.0364, device='cuda:0', grad_fn=<BinaryCrossEntropyBackward>)\n",
            "tensor(0.0408, device='cuda:0', grad_fn=<BinaryCrossEntropyBackward>)\n",
            "tensor(0.0353, device='cuda:0', grad_fn=<BinaryCrossEntropyBackward>)\n",
            "tensor(0.0344, device='cuda:0', grad_fn=<BinaryCrossEntropyBackward>)\n",
            "tensor(0.0349, device='cuda:0', grad_fn=<BinaryCrossEntropyBackward>)\n",
            "tensor(0.0333, device='cuda:0', grad_fn=<BinaryCrossEntropyBackward>)\n",
            "tensor(0.0326, device='cuda:0', grad_fn=<BinaryCrossEntropyBackward>)\n",
            "tensor(0.0324, device='cuda:0', grad_fn=<BinaryCrossEntropyBackward>)\n",
            "tensor(0.0315, device='cuda:0', grad_fn=<BinaryCrossEntropyBackward>)\n",
            "tensor(0.0375, device='cuda:0', grad_fn=<BinaryCrossEntropyBackward>)\n",
            "tensor(0.0306, device='cuda:0', grad_fn=<BinaryCrossEntropyBackward>)\n",
            "tensor(0.0298, device='cuda:0', grad_fn=<BinaryCrossEntropyBackward>)\n",
            "tensor(0.0319, device='cuda:0', grad_fn=<BinaryCrossEntropyBackward>)\n",
            "tensor(0.0289, device='cuda:0', grad_fn=<BinaryCrossEntropyBackward>)\n",
            "tensor(0.0282, device='cuda:0', grad_fn=<BinaryCrossEntropyBackward>)\n",
            "tensor(0.0287, device='cuda:0', grad_fn=<BinaryCrossEntropyBackward>)\n",
            "tensor(0.0273, device='cuda:0', grad_fn=<BinaryCrossEntropyBackward>)\n",
            "tensor(0.0266, device='cuda:0', grad_fn=<BinaryCrossEntropyBackward>)\n",
            "tensor(0.0269, device='cuda:0', grad_fn=<BinaryCrossEntropyBackward>)\n",
            "tensor(0.0259, device='cuda:0', grad_fn=<BinaryCrossEntropyBackward>)\n",
            "tensor(0.0252, device='cuda:0', grad_fn=<BinaryCrossEntropyBackward>)\n",
            "tensor(0.0254, device='cuda:0', grad_fn=<BinaryCrossEntropyBackward>)\n",
            "tensor(0.0245, device='cuda:0', grad_fn=<BinaryCrossEntropyBackward>)\n",
            "tensor(0.0238, device='cuda:0', grad_fn=<BinaryCrossEntropyBackward>)\n",
            "tensor(0.0241, device='cuda:0', grad_fn=<BinaryCrossEntropyBackward>)\n",
            "tensor(0.0232, device='cuda:0', grad_fn=<BinaryCrossEntropyBackward>)\n",
            "tensor(0.0227, device='cuda:0', grad_fn=<BinaryCrossEntropyBackward>)\n",
            "tensor(0.0232, device='cuda:0', grad_fn=<BinaryCrossEntropyBackward>)\n",
            "tensor(0.0221, device='cuda:0', grad_fn=<BinaryCrossEntropyBackward>)\n"
          ],
          "name": "stdout"
        }
      ]
    },
    {
      "cell_type": "code",
      "metadata": {
        "colab": {
          "base_uri": "https://localhost:8080/"
        },
        "id": "-3w9eLCow-82",
        "outputId": "700c4aff-4472-4895-899f-6b66e1a6efc7"
      },
      "source": [
        "y_pred = net(X_t)"
      ],
      "execution_count": null,
      "outputs": [
        {
          "output_type": "stream",
          "text": [
            "/usr/local/lib/python3.7/dist-packages/torch/nn/functional.py:1639: UserWarning: nn.functional.sigmoid is deprecated. Use torch.sigmoid instead.\n",
            "  warnings.warn(\"nn.functional.sigmoid is deprecated. Use torch.sigmoid instead.\")\n"
          ],
          "name": "stderr"
        }
      ]
    },
    {
      "cell_type": "code",
      "metadata": {
        "colab": {
          "base_uri": "https://localhost:8080/"
        },
        "id": "JB44KB7S70Cv",
        "outputId": "d7b9a812-17e5-47cd-892e-38b14a0605f1"
      },
      "source": [
        "y_pred"
      ],
      "execution_count": null,
      "outputs": [
        {
          "output_type": "execute_result",
          "data": {
            "text/plain": [
              "tensor([[0.9898],\n",
              "        [0.9999],\n",
              "        [0.9984],\n",
              "        ...,\n",
              "        [0.1413],\n",
              "        [0.0020],\n",
              "        [0.0709]], device='cuda:0', grad_fn=<SigmoidBackward>)"
            ]
          },
          "metadata": {
            "tags": []
          },
          "execution_count": 62
        }
      ]
    },
    {
      "cell_type": "code",
      "metadata": {
        "colab": {
          "base_uri": "https://localhost:8080/",
          "height": 168
        },
        "id": "h-VzadA977FW",
        "outputId": "67371b11-9da0-4407-98fc-8192b477ed98"
      },
      "source": [
        "np.array(y_pred.cpu() > 0.45611778, dtype='int').sum()"
      ],
      "execution_count": null,
      "outputs": [
        {
          "output_type": "error",
          "ename": "NameError",
          "evalue": "ignored",
          "traceback": [
            "\u001b[0;31m---------------------------------------------------------------------------\u001b[0m",
            "\u001b[0;31mNameError\u001b[0m                                 Traceback (most recent call last)",
            "\u001b[0;32m<ipython-input-1-9d445e4f9072>\u001b[0m in \u001b[0;36m<module>\u001b[0;34m()\u001b[0m\n\u001b[0;32m----> 1\u001b[0;31m \u001b[0mnp\u001b[0m\u001b[0;34m.\u001b[0m\u001b[0marray\u001b[0m\u001b[0;34m(\u001b[0m\u001b[0my_pred\u001b[0m\u001b[0;34m.\u001b[0m\u001b[0mcpu\u001b[0m\u001b[0;34m(\u001b[0m\u001b[0;34m)\u001b[0m \u001b[0;34m>\u001b[0m \u001b[0;36m0.45611778\u001b[0m\u001b[0;34m,\u001b[0m \u001b[0mdtype\u001b[0m\u001b[0;34m=\u001b[0m\u001b[0;34m'int'\u001b[0m\u001b[0;34m)\u001b[0m\u001b[0;34m.\u001b[0m\u001b[0msum\u001b[0m\u001b[0;34m(\u001b[0m\u001b[0;34m)\u001b[0m\u001b[0;34m\u001b[0m\u001b[0;34m\u001b[0m\u001b[0m\n\u001b[0m",
            "\u001b[0;31mNameError\u001b[0m: name 'np' is not defined"
          ]
        }
      ]
    },
    {
      "cell_type": "code",
      "metadata": {
        "id": "crKoFwCG8DV0"
      },
      "source": [
        "np.savetxt('/content/drive/MyDrive/zhenya/data3.csv', np.array(y_pred.cpu() > 0.45611778, dtype='int'), delimiter=',')"
      ],
      "execution_count": null,
      "outputs": []
    },
    {
      "cell_type": "code",
      "metadata": {
        "id": "tcZ35Mun9cF4"
      },
      "source": [
        ""
      ],
      "execution_count": null,
      "outputs": []
    }
  ]
}